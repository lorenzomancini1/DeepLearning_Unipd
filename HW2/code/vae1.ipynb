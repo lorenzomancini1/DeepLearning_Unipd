{
 "cells": [
  {
   "cell_type": "code",
   "execution_count": 41,
   "id": "4c30fdf9-bd4b-497f-9203-0d0874f6d0b2",
   "metadata": {},
   "outputs": [],
   "source": [
    "import matplotlib.pyplot as plt # plotting library\n",
    "import numpy as np # this module is useful to work with numerical arrays\n",
    "import pandas as pd # this module is useful to work with tabular data\n",
    "import random # this module will be used to select random samples from a collection\n",
    "import os # this module will be used just to create directories in the local filesystem\n",
    "from tqdm import tqdm # this module is useful to plot progress bars\n",
    "from scipy.stats import loguniform\n",
    "import torch\n",
    "import torchvision\n",
    "from torchvision import transforms\n",
    "from torch.utils.data import DataLoader\n",
    "from torch import nn, optim\n",
    "from torch.nn import functional as F\n",
    "from torchvision.utils import save_image"
   ]
  },
  {
   "cell_type": "code",
   "execution_count": 2,
   "id": "bc724f55-e709-462e-a4fa-f26d12a98fbe",
   "metadata": {},
   "outputs": [
    {
     "data": {
      "text/plain": [
       "device(type='cuda')"
      ]
     },
     "execution_count": 2,
     "metadata": {},
     "output_type": "execute_result"
    }
   ],
   "source": [
    "device = torch.device('cuda' if torch.cuda.is_available() else 'cpu')\n",
    "device"
   ]
  },
  {
   "cell_type": "code",
   "execution_count": 4,
   "id": "b5bbf374-b6a2-4973-8f15-61dfb931459a",
   "metadata": {},
   "outputs": [],
   "source": [
    "train_data = torchvision.datasets.FashionMNIST('dataset', train=True, download=True,\n",
    "                            transform=transforms.ToTensor())\n",
    "test_data = torchvision.datasets.FashionMNIST('dataset', train=False,\n",
    "                           transform=transforms.ToTensor())"
   ]
  },
  {
   "cell_type": "code",
   "execution_count": 6,
   "id": "1962431d-8801-4010-96d7-fa00e41aaf1b",
   "metadata": {},
   "outputs": [],
   "source": [
    "kwargs = {'num_workers': 1, 'pin_memory': True} if device == 'cuda' else {}\n",
    "\n",
    "train_loader = torch.utils.data.DataLoader(train_data,\n",
    "                                           batch_size=128, shuffle=True, **kwargs)\n",
    "test_loader = torch.utils.data.DataLoader(test_data,\n",
    "                                          batch_size=128, shuffle=True, **kwargs)"
   ]
  },
  {
   "cell_type": "code",
   "execution_count": 7,
   "id": "90202a0d-4631-4591-85b6-4b42270540f5",
   "metadata": {},
   "outputs": [],
   "source": [
    "Z_DIM = 9\n",
    "class VAE(nn.Module):\n",
    "    def __init__(self):\n",
    "        super().__init__()\n",
    "        self.fc1 = nn.Linear(784, 500)\n",
    "        self.fc21 = nn.Linear(500, Z_DIM)  # fc21 for mean of Z\n",
    "        self.fc22 = nn.Linear(500, Z_DIM)  # fc22 for log variance of Z\n",
    "        self.fc3 = nn.Linear(Z_DIM, 500)\n",
    "        self.fc4 = nn.Linear(500, 784)\n",
    "\n",
    "    def encode(self, x):\n",
    "        h1 = F.relu(self.fc1(x))\n",
    "        mu = self.fc21(h1)\n",
    "        logvar = self.fc22(h1)\n",
    "        return mu, logvar\n",
    "\n",
    "    def reparameterize(self, mu, logvar):\n",
    "        std = torch.exp(0.5*logvar)\n",
    "        eps = torch.rand_like(std)\n",
    "        return mu + eps*std\n",
    "\n",
    "    def decode(self, z):\n",
    "        h3 = F.relu(self.fc3(z))\n",
    "        return torch.sigmoid(self.fc4(h3))\n",
    "\n",
    "    def forward(self, x):\n",
    "        # x: [batch size, 1, 28,28] -> x: [batch size, 784]\n",
    "        x = x.view(-1, 784)\n",
    "        mu, logvar = self.encode(x)\n",
    "        z = self.reparameterize(mu, logvar)\n",
    "        return self.decode(z), mu, logvar\n",
    "\n"
   ]
  },
  {
   "cell_type": "code",
   "execution_count": 42,
   "id": "a7f0ce92-7916-4620-a6ff-fc41e090bff9",
   "metadata": {},
   "outputs": [],
   "source": [
    "lr = 1e-3\n",
    "net = VAE().to(device)\n",
    "optimizer = optim.Adam(net.parameters(), lr=lr)"
   ]
  },
  {
   "cell_type": "code",
   "execution_count": 43,
   "id": "aae2440b-5564-450d-af19-00a266053b45",
   "metadata": {},
   "outputs": [],
   "source": [
    "def loss_function(recon_x, x, mu, logvar):\n",
    "    BCE = F.binary_cross_entropy(recon_x, x.view(-1, 784), reduction='sum')\n",
    "    KLD = 0.5 * torch.sum(mu.pow(2) + logvar.exp() - logvar - 1)\n",
    "\n",
    "    return BCE + KLD"
   ]
  },
  {
   "cell_type": "code",
   "execution_count": 44,
   "id": "364ece8e-1197-4fdf-b074-575701d66c5e",
   "metadata": {},
   "outputs": [],
   "source": [
    "def train(epoch):\n",
    "    net.train()\n",
    "    train_loss = 0\n",
    "    for batch_idx, (data, label) in enumerate(train_loader):\n",
    "        # data: [batch size, 1, 28, 28]\n",
    "        # label: [batch size] -> we don't use\n",
    "        optimizer.zero_grad()\n",
    "        data = data.to(device)\n",
    "        recon_data, mu, logvar = net(data)\n",
    "        loss = loss_function(recon_data, data, mu, logvar)\n",
    "        loss.backward()\n",
    "        cur_loss = loss.item()\n",
    "        train_loss += cur_loss\n",
    "        optimizer.step()\n",
    "\n",
    "    print('====> Epoch: {} Average train loss: {:.4f}'.format(\n",
    "        epoch, train_loss / len(train_loader.dataset)\n",
    "    ))"
   ]
  },
  {
   "cell_type": "code",
   "execution_count": 45,
   "id": "c9cf63c8-0037-4807-a594-8b500092fd6e",
   "metadata": {},
   "outputs": [],
   "source": [
    "def test(epoch):\n",
    "    net.eval()\n",
    "    test_loss = 0\n",
    "    with torch.no_grad():\n",
    "        for batch_idx, (data, label) in enumerate(test_loader):\n",
    "            data = data.to(device)\n",
    "            recon_data, mu, logvar = net(data)\n",
    "            cur_loss = loss_function(recon_data, data, mu, logvar).item()\n",
    "            test_loss += cur_loss\n",
    "            \n",
    "\n",
    "    test_loss /= len(test_loader.dataset)\n",
    "    print('====> Test set loss: {:.4f}'.format(test_loss))"
   ]
  },
  {
   "cell_type": "code",
   "execution_count": 46,
   "id": "d09f8387-23a6-4e3d-b24d-6f2c54e06e18",
   "metadata": {},
   "outputs": [],
   "source": [
    "def save_generated_img(image, name, epoch, nrow=8):\n",
    "    if not os.path.exists('results'):\n",
    "        os.makedirs('results')\n",
    "\n",
    "    if epoch % 5 == 0:\n",
    "        save_path = 'results/'+name+'_'+str(epoch)+'.png'\n",
    "        save_image(image, save_path, nrow=nrow)"
   ]
  },
  {
   "cell_type": "code",
   "execution_count": 47,
   "id": "87933bb8-b542-4e86-ada3-e7d56d509bc1",
   "metadata": {},
   "outputs": [],
   "source": [
    "def sample_from_model(epoch):\n",
    "    with torch.no_grad():\n",
    "        # p(z) = N(0,I), this distribution is used when calculating KLD. So we can sample z from N(0,I)\n",
    "        sample = torch.randn(64, Z_DIM).to(device)\n",
    "        sample = net.decode(sample).cpu().view(64, 1, 28, 28)\n",
    "        save_generated_img(sample, 'sample', epoch)"
   ]
  },
  {
   "cell_type": "code",
   "execution_count": 48,
   "id": "47f7e986-75ec-4200-b7ec-bea803d03c98",
   "metadata": {},
   "outputs": [
    {
     "name": "stdout",
     "output_type": "stream",
     "text": [
      "====> Epoch: 1 Average train loss: 261.4599\n",
      "====> Test set loss: 244.2838\n",
      "====> Epoch: 2 Average train loss: 239.9300\n",
      "====> Test set loss: 239.7411\n",
      "====> Epoch: 3 Average train loss: 237.0445\n",
      "====> Test set loss: 237.9378\n",
      "====> Epoch: 4 Average train loss: 235.5700\n",
      "====> Test set loss: 237.0128\n",
      "====> Epoch: 5 Average train loss: 234.5605\n",
      "====> Test set loss: 235.9473\n",
      "====> Epoch: 6 Average train loss: 233.7970\n",
      "====> Test set loss: 235.5838\n",
      "====> Epoch: 7 Average train loss: 233.1818\n",
      "====> Test set loss: 234.8398\n",
      "====> Epoch: 8 Average train loss: 232.6991\n",
      "====> Test set loss: 234.5191\n",
      "====> Epoch: 9 Average train loss: 232.3266\n",
      "====> Test set loss: 234.0180\n",
      "====> Epoch: 10 Average train loss: 231.9380\n",
      "====> Test set loss: 233.9178\n",
      "====> Epoch: 11 Average train loss: 231.6364\n",
      "====> Test set loss: 233.6476\n",
      "====> Epoch: 12 Average train loss: 231.3661\n",
      "====> Test set loss: 233.3229\n",
      "====> Epoch: 13 Average train loss: 231.1427\n",
      "====> Test set loss: 233.1493\n",
      "====> Epoch: 14 Average train loss: 230.9186\n",
      "====> Test set loss: 232.8376\n",
      "====> Epoch: 15 Average train loss: 230.7171\n",
      "====> Test set loss: 232.8027\n",
      "====> Epoch: 16 Average train loss: 230.5628\n",
      "====> Test set loss: 232.6469\n",
      "====> Epoch: 17 Average train loss: 230.3668\n",
      "====> Test set loss: 232.4078\n",
      "====> Epoch: 18 Average train loss: 230.2445\n",
      "====> Test set loss: 232.1958\n",
      "====> Epoch: 19 Average train loss: 230.1374\n",
      "====> Test set loss: 232.1532\n",
      "====> Epoch: 20 Average train loss: 230.0043\n",
      "====> Test set loss: 232.2823\n"
     ]
    }
   ],
   "source": [
    "for epoch in range(1, 21):\n",
    "        train(epoch)\n",
    "        test(epoch)\n",
    "        sample_from_model(epoch)"
   ]
  },
  {
   "cell_type": "code",
   "execution_count": null,
   "id": "480fbed1-68cf-4ffb-9710-af2adbd9b3ff",
   "metadata": {},
   "outputs": [],
   "source": []
  }
 ],
 "metadata": {
  "environment": {
   "kernel": "python3",
   "name": "pytorch-gpu.1-10.m87",
   "type": "gcloud",
   "uri": "gcr.io/deeplearning-platform-release/pytorch-gpu.1-10:m87"
  },
  "kernelspec": {
   "display_name": "Python 3",
   "language": "python",
   "name": "python3"
  },
  "language_info": {
   "codemirror_mode": {
    "name": "ipython",
    "version": 3
   },
   "file_extension": ".py",
   "mimetype": "text/x-python",
   "name": "python",
   "nbconvert_exporter": "python",
   "pygments_lexer": "ipython3",
   "version": "3.7.12"
  }
 },
 "nbformat": 4,
 "nbformat_minor": 5
}
